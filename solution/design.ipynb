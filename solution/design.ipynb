{
 "cells": [
  {
   "cell_type": "code",
   "execution_count": 23,
   "id": "4b4ab942-9d27-4a8e-9895-8d04c34b46fa",
   "metadata": {},
   "outputs": [],
   "source": [
    "from matplotlib import pyplot as plt\n",
    "from tqdm.notebook import tqdm\n",
    "import numpy as np\n",
    "import matplotlib\n",
    "import os\n",
    "\n",
    "import torch"
   ]
  },
  {
   "cell_type": "code",
   "execution_count": 24,
   "id": "573463c8-72ec-4436-a6cb-560527047b50",
   "metadata": {},
   "outputs": [],
   "source": [
    "INPUT_LENGTH = 64\n",
    "\n",
    "class ReLU(torch.nn.Module): \n",
    "    def __init__(self): \n",
    "        super(ReLU, self).__init__()\n",
    "        self.bias = torch.nn.Parameter(torch.zeros(INPUT_LENGTH,), requires_grad=False)\n",
    "          \n",
    "    def forward(self, x): \n",
    "        return torch.nn.functional.relu(x)\n",
    "\n",
    "class ULeR(torch.nn.Module): \n",
    "    def __init__(self): \n",
    "        super(ULeR, self).__init__()\n",
    "        self.bias = torch.nn.Parameter(torch.zeros(INPUT_LENGTH,), requires_grad=False)\n",
    "          \n",
    "    def forward(self, x): \n",
    "        return torch.nn.functional.relu(-1*x)\n",
    "\n",
    "class LURe(torch.nn.Module): \n",
    "    def __init__(self): \n",
    "        super(LURe, self).__init__()\n",
    "        self.bias = torch.nn.Parameter(torch.zeros(INPUT_LENGTH,), requires_grad=False)\n",
    "          \n",
    "    def forward(self, x): \n",
    "        return -1*torch.nn.functional.relu(x)\n",
    "\n",
    "class eRUL(torch.nn.Module): \n",
    "    def __init__(self): \n",
    "        super(eRUL, self).__init__()\n",
    "        self.bias = torch.nn.Parameter(torch.zeros(INPUT_LENGTH,), requires_grad=False)\n",
    "          \n",
    "    def forward(self, x): \n",
    "        return -1*torch.nn.functional.relu(-1*x)\n",
    "\n",
    "class ULLU(torch.nn.Module): \n",
    "    def __init__(self): \n",
    "        super(ULLU, self).__init__()\n",
    "        self.bias = torch.nn.Parameter(torch.zeros(INPUT_LENGTH,), requires_grad=False)\n",
    "          \n",
    "    def forward(self, x):\n",
    "        return torch.abs(x)\n",
    "\n",
    "class LUUL(torch.nn.Module): \n",
    "    def __init__(self): \n",
    "        super(LUUL, self).__init__()\n",
    "        self.bias = torch.nn.Parameter(torch.zeros(INPUT_LENGTH,), requires_grad=False)\n",
    "          \n",
    "    def forward(self, x): \n",
    "        return -1*torch.abs(x)\n",
    "\n",
    "class ULUL(torch.nn.Module): \n",
    "    def __init__(self): \n",
    "        super(ULUL, self).__init__()\n",
    "        self.bias = torch.nn.Parameter(torch.zeros(INPUT_LENGTH,), requires_grad=False)\n",
    "          \n",
    "    def forward(self, x): \n",
    "        return -1*x\n",
    "\n",
    "class LULU(torch.nn.Module): \n",
    "    def __init__(self): \n",
    "        super(LULU, self).__init__()\n",
    "        self.bias = torch.nn.Parameter(torch.zeros(INPUT_LENGTH,), requires_grad=False)\n",
    "          \n",
    "    def forward(self, x): \n",
    "        return x\n",
    "        \n",
    "\n",
    "\n",
    "class NeuralNetwork(torch.nn.Module):\n",
    "    def __init__(self):\n",
    "        super().__init__()\n",
    "\n",
    "        # Positive\n",
    "        self.lin_p1 = torch.nn.Linear(INPUT_LENGTH, INPUT_LENGTH, bias=False)\n",
    "        self.lin_p2 = torch.nn.Linear(INPUT_LENGTH, INPUT_LENGTH, bias=False)\n",
    "        self.lin_p3 = torch.nn.Linear(INPUT_LENGTH, INPUT_LENGTH, bias=False)\n",
    "        self.lin_p4 = torch.nn.Linear(INPUT_LENGTH, INPUT_LENGTH, bias=False)\n",
    "        self.lin_p5 = torch.nn.Linear(INPUT_LENGTH, INPUT_LENGTH, bias=False)\n",
    "        self.lin_p6 = torch.nn.Linear(INPUT_LENGTH, INPUT_LENGTH, bias=False)\n",
    "\n",
    "        self.p_11 = LUUL()\n",
    "        self.p_12 = LURe()\n",
    "        self.p_21 = LUUL()\n",
    "        self.p_22 = ULeR()\n",
    "        self.p_31 = ULLU()\n",
    "        self.p_32 = ReLU()\n",
    "        self.p_41 = LURe()\n",
    "        self.p_42 = ReLU()\n",
    "        self.p_51 = ULLU()\n",
    "        self.p_52 = eRUL()\n",
    "        self.p_61 = ULLU()\n",
    "        self.p_62 = ULeR()\n",
    "\n",
    "        # Negative\n",
    "        self.lin_n1 = torch.nn.Linear(INPUT_LENGTH, INPUT_LENGTH, bias=False)\n",
    "        self.lin_n2 = torch.nn.Linear(INPUT_LENGTH, INPUT_LENGTH, bias=False)\n",
    "        self.lin_n3 = torch.nn.Linear(INPUT_LENGTH, INPUT_LENGTH, bias=False)\n",
    "        self.lin_n4 = torch.nn.Linear(INPUT_LENGTH, INPUT_LENGTH, bias=False)\n",
    "        self.lin_n5 = torch.nn.Linear(INPUT_LENGTH, INPUT_LENGTH, bias=False)\n",
    "        self.lin_n6 = torch.nn.Linear(INPUT_LENGTH, INPUT_LENGTH, bias=False)\n",
    "\n",
    "        self.n_11 = LUUL()\n",
    "        self.n_12 = ReLU()\n",
    "        self.n_21 = eRUL()\n",
    "        self.n_22 = ULeR()\n",
    "        self.n_31 = ULeR()\n",
    "        self.n_32 = eRUL()\n",
    "        self.n_41 = LUUL()\n",
    "        self.n_42 = LURe()\n",
    "        self.n_51 = eRUL()   \n",
    "        self.n_52 = eRUL()\n",
    "        self.n_61 = ULeR()\n",
    "        self.n_62 = ReLU()\n",
    "\n",
    "\n",
    "    def forward(self, x):\n",
    "        p1 = self.p_12(self.lin_p1(self.p_11(x)))\n",
    "        p2 = self.p_22(self.lin_p2(self.p_21(x)))\n",
    "        p3 = self.p_32(self.lin_p3(self.p_31(x)))\n",
    "        p4 = self.p_42(self.lin_p4(self.p_41(x)))\n",
    "        p5 = self.p_52(self.lin_p5(self.p_51(x)))\n",
    "        p6 = self.p_62(self.lin_p6(self.p_61(x)))\n",
    "\n",
    "        p_out = torch.sum(torch.stack([p1, p2, p3, p4, p5, p6]), dim=0)\n",
    "        \n",
    "        n1 = self.n_12(self.lin_n1(self.n_11(x)))\n",
    "        n2 = self.n_22(self.lin_n2(self.n_21(x)))\n",
    "        n3 = self.n_32(self.lin_n3(self.n_31(x)))\n",
    "        n4 = self.n_42(self.lin_n4(self.n_41(x)))\n",
    "        n5 = self.n_52(self.lin_n5(self.n_51(x)))\n",
    "        n6 = self.n_62(self.lin_n6(self.n_61(x)))\n",
    "\n",
    "        n_out = torch.sum(torch.stack([n1, n2, n3, n4, n5, n6]), dim=0)\n",
    "                \n",
    "        y = torch.add(p_out, n_out)\n",
    "        \n",
    "        return y"
   ]
  },
  {
   "cell_type": "code",
   "execution_count": 25,
   "id": "447fbbc2-7724-48c5-8d8a-b90729f1c73d",
   "metadata": {},
   "outputs": [
    {
     "name": "stdout",
     "output_type": "stream",
     "text": [
      "NeuralNetwork(\n",
      "  (lin_p1): Linear(in_features=64, out_features=64, bias=False)\n",
      "  (lin_p2): Linear(in_features=64, out_features=64, bias=False)\n",
      "  (lin_p3): Linear(in_features=64, out_features=64, bias=False)\n",
      "  (lin_p4): Linear(in_features=64, out_features=64, bias=False)\n",
      "  (lin_p5): Linear(in_features=64, out_features=64, bias=False)\n",
      "  (lin_p6): Linear(in_features=64, out_features=64, bias=False)\n",
      "  (p_11): LUUL()\n",
      "  (p_12): LURe()\n",
      "  (p_21): LUUL()\n",
      "  (p_22): ULeR()\n",
      "  (p_31): ULLU()\n",
      "  (p_32): ReLU()\n",
      "  (p_41): LURe()\n",
      "  (p_42): ReLU()\n",
      "  (p_51): ULLU()\n",
      "  (p_52): eRUL()\n",
      "  (p_61): ULLU()\n",
      "  (p_62): ULeR()\n",
      "  (lin_n1): Linear(in_features=64, out_features=64, bias=False)\n",
      "  (lin_n2): Linear(in_features=64, out_features=64, bias=False)\n",
      "  (lin_n3): Linear(in_features=64, out_features=64, bias=False)\n",
      "  (lin_n4): Linear(in_features=64, out_features=64, bias=False)\n",
      "  (lin_n5): Linear(in_features=64, out_features=64, bias=False)\n",
      "  (lin_n6): Linear(in_features=64, out_features=64, bias=False)\n",
      "  (n_11): LUUL()\n",
      "  (n_12): ReLU()\n",
      "  (n_21): eRUL()\n",
      "  (n_22): ULeR()\n",
      "  (n_31): ULeR()\n",
      "  (n_32): eRUL()\n",
      "  (n_41): LUUL()\n",
      "  (n_42): LURe()\n",
      "  (n_51): eRUL()\n",
      "  (n_52): eRUL()\n",
      "  (n_61): ULeR()\n",
      "  (n_62): ReLU()\n",
      ")\n"
     ]
    }
   ],
   "source": [
    "model = NeuralNetwork()\n",
    "print(model)"
   ]
  },
  {
   "cell_type": "code",
   "execution_count": 26,
   "id": "422c9be3-3576-4626-80d2-9e5808cf9116",
   "metadata": {},
   "outputs": [
    {
     "data": {
      "text/plain": [
       "[<matplotlib.lines.Line2D at 0x7f3238626190>]"
      ]
     },
     "execution_count": 26,
     "metadata": {},
     "output_type": "execute_result"
    },
    {
     "data": {
      "image/png": "[encoded data removed]",
      "text/plain": [
       "<Figure size 640x480 with 1 Axes>"
      ]
     },
     "metadata": {},
     "output_type": "display_data"
    }
   ],
   "source": [
    "# for param in model.parameters():\n",
    "#     print(param.data)\n",
    "\n",
    "loss_function = torch.nn.MSELoss()\n",
    "optimizer = torch.optim.Adam(model.parameters(), lr = 1e-1, weight_decay = 0)\n",
    "\n",
    "\n",
    "inputs = torch.randint(-1, 2, (10, INPUT_LENGTH), dtype=torch.float32)\n",
    "\n",
    "epochs = 20\n",
    "outputs = []\n",
    "losses = []\n",
    "\n",
    "for epoch in range(epochs):\n",
    "    for input in inputs:\n",
    "        reconstructed = model(input)\n",
    "        loss = loss_function(reconstructed, -1*input)\n",
    "        \n",
    "        optimizer.zero_grad()\n",
    "        loss.backward()\n",
    "        optimizer.step()\n",
    "        \n",
    "        losses.append(loss.item())\n",
    "        outputs.append((epochs, input, reconstructed))\n",
    "\n",
    "    # print(reconstructed)\n",
    "    \n",
    "plt.xlabel('Iterations')\n",
    "plt.ylabel('Loss')\n",
    "\n",
    "plt.plot(losses)\n",
    "\n",
    "# for param in model.parameters():\n",
    "#     print(param.data)\n"
   ]
  },
  {
   "cell_type": "markdown",
   "id": "aae66bd6-46b5-4b98-acd7-afb70bf37592",
   "metadata": {},
   "source": [
    "## Solution\n",
    "\n",
    "Setting linear to -1*Id matrix gives solution"
   ]
  },
  {
   "cell_type": "code",
   "execution_count": 27,
   "id": "0877020a-6dbd-44db-9921-e10db291ac05",
   "metadata": {},
   "outputs": [],
   "source": [
    "model.lin_p1.weight = torch.nn.Parameter(-1*torch.eye(INPUT_LENGTH,INPUT_LENGTH), requires_grad=False)\n",
    "model.lin_p2.weight = torch.nn.Parameter(1*torch.eye(INPUT_LENGTH,INPUT_LENGTH), requires_grad=False)\n",
    "model.lin_p3.weight = torch.nn.Parameter(1*torch.eye(INPUT_LENGTH,INPUT_LENGTH), requires_grad=False)\n",
    "model.lin_p4.weight = torch.nn.Parameter(-1*torch.eye(INPUT_LENGTH,INPUT_LENGTH), requires_grad=False)\n",
    "model.lin_p5.weight = torch.nn.Parameter(-1*torch.eye(INPUT_LENGTH,INPUT_LENGTH), requires_grad=False)\n",
    "model.lin_p6.weight = torch.nn.Parameter(1*torch.eye(INPUT_LENGTH,INPUT_LENGTH), requires_grad=False)\n",
    "\n",
    "model.lin_n1.weight = torch.nn.Parameter(-1*torch.eye(INPUT_LENGTH,INPUT_LENGTH), requires_grad=False)\n",
    "model.lin_n2.weight = torch.nn.Parameter(1*torch.eye(INPUT_LENGTH,INPUT_LENGTH), requires_grad=False)\n",
    "model.lin_n3.weight = torch.nn.Parameter(-1*torch.eye(INPUT_LENGTH,INPUT_LENGTH), requires_grad=False)\n",
    "model.lin_n4.weight = torch.nn.Parameter(-1*torch.eye(INPUT_LENGTH,INPUT_LENGTH), requires_grad=False)\n",
    "model.lin_n5.weight = torch.nn.Parameter(1*torch.eye(INPUT_LENGTH,INPUT_LENGTH), requires_grad=False)\n",
    "model.lin_n6.weight = torch.nn.Parameter(-1*torch.eye(INPUT_LENGTH,INPUT_LENGTH), requires_grad=False)"
   ]
  },
  {
   "cell_type": "code",
   "execution_count": 28,
   "id": "da206990-3a2c-41fb-8a59-ce040f70e8b3",
   "metadata": {},
   "outputs": [
    {
     "name": "stdout",
     "output_type": "stream",
     "text": [
      "tensor([ 2.,  2.,  0.,  3., -3.,  2.,  0., -3.,  2., -2.,  0.,  0.,  2., -1.,\n",
      "        -3., -2., -3.,  0.,  3., -1., -1.,  2.,  3.,  1.,  0.,  1.,  0., -2.,\n",
      "         2., -2.,  2.,  0.,  1., -1., -3.,  2., -1.,  1., -3.,  2.,  0., -3.,\n",
      "        -1., -1.,  1.,  0., -3.,  3.,  0.,  0., -2.,  1., -3.,  2.,  2.,  2.,\n",
      "        -2.,  2.,  0.,  1.,  2.,  0.,  0.,  0.])\n",
      "tensor([ 2.,  2.,  0.,  3., -3.,  2.,  0., -3.,  2., -2.,  0.,  0.,  2., -1.,\n",
      "        -3., -2., -3.,  0.,  3., -1., -1.,  2.,  3.,  1.,  0.,  1.,  0., -2.,\n",
      "         2., -2.,  2.,  0.,  1., -1., -3.,  2., -1.,  1., -3.,  2.,  0., -3.,\n",
      "        -1., -1.,  1.,  0., -3.,  3.,  0.,  0., -2.,  1., -3.,  2.,  2.,  2.,\n",
      "        -2.,  2.,  0.,  1.,  2.,  0.,  0.,  0.])\n",
      "tensor([-3., -3.,  2., -1.,  1., -1.,  1., -2.,  2., -3., -2.,  3.,  1., -1.,\n",
      "         2., -1., -2.,  1.,  2.,  1., -2.,  2., -2.,  3.,  3.,  3., -3.,  1.,\n",
      "         1.,  3., -3.,  3.,  1.,  1., -1., -2., -1., -2.,  0.,  1.,  3.,  0.,\n",
      "         3.,  0.,  1.,  1.,  3., -3., -2., -3.,  2.,  2., -2.,  0.,  1.,  2.,\n",
      "        -2.,  3., -1.,  3.,  3.,  2., -2., -2.])\n",
      "tensor([-3., -3.,  2., -1.,  1., -1.,  1., -2.,  2., -3., -2.,  3.,  1., -1.,\n",
      "         2., -1., -2.,  1.,  2.,  1., -2.,  2., -2.,  3.,  3.,  3., -3.,  1.,\n",
      "         1.,  3., -3.,  3.,  1.,  1., -1., -2., -1., -2.,  0.,  1.,  3.,  0.,\n",
      "         3.,  0.,  1.,  1.,  3., -3., -2., -3.,  2.,  2., -2.,  0.,  1.,  2.,\n",
      "        -2.,  3., -1.,  3.,  3.,  2., -2., -2.])\n",
      "tensor([ 0., -1., -1., -1.,  3., -1., -2.,  2.,  0.,  0.,  1.,  2.,  0.,  1.,\n",
      "        -3.,  2.,  3.,  1., -2.,  1.,  2., -2.,  1.,  1., -3.,  3., -3., -3.,\n",
      "        -1.,  3., -1.,  1.,  1.,  1.,  3., -1.,  1.,  1., -3., -3.,  3.,  0.,\n",
      "         2.,  3.,  3., -3.,  1.,  0.,  2., -1.,  0., -3.,  1.,  3.,  0.,  2.,\n",
      "        -3.,  0.,  0., -1.,  2.,  3.,  3.,  3.])\n",
      "tensor([ 0., -1., -1., -1.,  3., -1., -2.,  2.,  0.,  0.,  1.,  2.,  0.,  1.,\n",
      "        -3.,  2.,  3.,  1., -2.,  1.,  2., -2.,  1.,  1., -3.,  3., -3., -3.,\n",
      "        -1.,  3., -1.,  1.,  1.,  1.,  3., -1.,  1.,  1., -3., -3.,  3.,  0.,\n",
      "         2.,  3.,  3., -3.,  1.,  0.,  2., -1.,  0., -3.,  1.,  3.,  0.,  2.,\n",
      "        -3.,  0.,  0., -1.,  2.,  3.,  3.,  3.])\n",
      "tensor([-3., -2.,  0.,  1.,  3.,  3., -1.,  0.,  0., -3., -1.,  3., -1.,  1.,\n",
      "        -3., -2.,  0.,  2.,  2.,  1.,  1.,  3., -3.,  1., -1.,  2., -2.,  0.,\n",
      "        -3., -3., -1.,  0.,  2.,  2.,  3., -2., -2., -2., -3., -3.,  2., -2.,\n",
      "        -2., -2.,  2.,  3.,  0.,  1.,  3., -3., -1.,  2.,  3.,  1., -3.,  0.,\n",
      "         2., -3.,  1.,  2.,  1., -1.,  1.,  1.])\n",
      "tensor([-3., -2.,  0.,  1.,  3.,  3., -1.,  0.,  0., -3., -1.,  3., -1.,  1.,\n",
      "        -3., -2.,  0.,  2.,  2.,  1.,  1.,  3., -3.,  1., -1.,  2., -2.,  0.,\n",
      "        -3., -3., -1.,  0.,  2.,  2.,  3., -2., -2., -2., -3., -3.,  2., -2.,\n",
      "        -2., -2.,  2.,  3.,  0.,  1.,  3., -3., -1.,  2.,  3.,  1., -3.,  0.,\n",
      "         2., -3.,  1.,  2.,  1., -1.,  1.,  1.])\n",
      "tensor([ 0., -1.,  1.,  3., -3.,  1., -2.,  1., -1., -1.,  3., -3.,  1.,  2.,\n",
      "        -1.,  3., -1.,  3., -3., -1.,  1., -2.,  3.,  0.,  1., -1.,  3., -3.,\n",
      "         3.,  1.,  0.,  2., -2.,  2.,  1.,  2.,  3., -1.,  1., -3.,  0.,  1.,\n",
      "         0.,  1.,  2.,  3., -3., -2.,  2.,  1., -3., -3.,  0., -1., -2., -2.,\n",
      "         2., -1., -1.,  2.,  1., -1., -2., -2.])\n",
      "tensor([ 0., -1.,  1.,  3., -3.,  1., -2.,  1., -1., -1.,  3., -3.,  1.,  2.,\n",
      "        -1.,  3., -1.,  3., -3., -1.,  1., -2.,  3.,  0.,  1., -1.,  3., -3.,\n",
      "         3.,  1.,  0.,  2., -2.,  2.,  1.,  2.,  3., -1.,  1., -3.,  0.,  1.,\n",
      "         0.,  1.,  2.,  3., -3., -2.,  2.,  1., -3., -3.,  0., -1., -2., -2.,\n",
      "         2., -1., -1.,  2.,  1., -1., -2., -2.])\n"
     ]
    },
    {
     "data": {
      "text/plain": [
       "[<matplotlib.lines.Line2D at 0x7f32384ee190>]"
      ]
     },
     "execution_count": 28,
     "metadata": {},
     "output_type": "execute_result"
    },
    {
     "data": {
      "image/png": "[encoded data removed]",
      "text/plain": [
       "<Figure size 640x480 with 1 Axes>"
      ]
     },
     "metadata": {},
     "output_type": "display_data"
    }
   ],
   "source": [
    "inputs = torch.randint(-3, 4, (5, INPUT_LENGTH), dtype=torch.float32)\n",
    "\n",
    "losses = []\n",
    "\n",
    "model.eval()\n",
    "with torch.no_grad():\n",
    "    for input in inputs:\n",
    "        reconstructed = model(input)\n",
    "        loss = loss_function(reconstructed, input)\n",
    "        \n",
    "        losses.append(loss.item())\n",
    "\n",
    "        print(input)\n",
    "        print(reconstructed)\n",
    "    \n",
    "plt.xlabel('Samples')\n",
    "plt.ylabel('Loss')\n",
    "\n",
    "plt.plot(losses)"
   ]
  },
  {
   "cell_type": "code",
   "execution_count": 29,
   "id": "b2fe0c0c-68d7-4b01-9cab-bc3d0cf6f38a",
   "metadata": {},
   "outputs": [],
   "source": [
    "torch.save(model.state_dict(), 'solve_weights.pth')"
   ]
  },
  {
   "cell_type": "markdown",
   "id": "71d01878-e98e-4901-b7fa-ddbbf1410be1",
   "metadata": {},
   "source": [
    "## Example of wrong solutions"
   ]
  },
  {
   "cell_type": "code",
   "execution_count": 31,
   "id": "df3eb1b2-5975-4998-8779-c9e99a6a25cc",
   "metadata": {},
   "outputs": [],
   "source": [
    "model.lin_p1.weight = torch.nn.Parameter(-1*torch.eye(INPUT_LENGTH,INPUT_LENGTH), requires_grad=False)\n",
    "model.lin_p2.weight = torch.nn.Parameter(-1*torch.eye(INPUT_LENGTH,INPUT_LENGTH), requires_grad=False)\n",
    "model.lin_p3.weight = torch.nn.Parameter(-1*torch.eye(INPUT_LENGTH,INPUT_LENGTH), requires_grad=False)\n",
    "model.lin_p4.weight = torch.nn.Parameter(1*torch.eye(INPUT_LENGTH,INPUT_LENGTH), requires_grad=False)\n",
    "model.lin_p5.weight = torch.nn.Parameter(-1*torch.eye(INPUT_LENGTH,INPUT_LENGTH), requires_grad=False)\n",
    "model.lin_p6.weight = torch.nn.Parameter(1*torch.eye(INPUT_LENGTH,INPUT_LENGTH), requires_grad=False)\n",
    "\n",
    "model.lin_n1.weight = torch.nn.Parameter(1*torch.eye(INPUT_LENGTH,INPUT_LENGTH), requires_grad=False)\n",
    "model.lin_n2.weight = torch.nn.Parameter(1*torch.eye(INPUT_LENGTH,INPUT_LENGTH), requires_grad=False)\n",
    "model.lin_n3.weight = torch.nn.Parameter(1*torch.eye(INPUT_LENGTH,INPUT_LENGTH), requires_grad=False)\n",
    "model.lin_n4.weight = torch.nn.Parameter(-1*torch.eye(INPUT_LENGTH,INPUT_LENGTH), requires_grad=False)\n",
    "model.lin_n5.weight = torch.nn.Parameter(1*torch.eye(INPUT_LENGTH,INPUT_LENGTH), requires_grad=False)\n",
    "model.lin_n6.weight = torch.nn.Parameter(-1*torch.eye(INPUT_LENGTH,INPUT_LENGTH), requires_grad=False)"
   ]
  },
  {
   "cell_type": "code",
   "execution_count": 32,
   "id": "126b70c2-2a27-4345-b210-1c246c1e3208",
   "metadata": {},
   "outputs": [],
   "source": [
    "torch.save(model.state_dict(), 'wrong_weights.pth')"
   ]
  },
  {
   "cell_type": "markdown",
   "id": "25a2fc21-a0cb-4ba2-9848-590caa930f29",
   "metadata": {},
   "source": [
    "## Random weight"
   ]
  },
  {
   "cell_type": "code",
   "execution_count": 34,
   "id": "1649d00e-38d9-46dc-b5c7-e4fdbc30a528",
   "metadata": {},
   "outputs": [],
   "source": [
    "model.lin_p1.weight = torch.nn.Parameter(torch.rand(INPUT_LENGTH,INPUT_LENGTH), requires_grad=False)\n",
    "model.lin_p2.weight = torch.nn.Parameter(torch.rand(INPUT_LENGTH,INPUT_LENGTH), requires_grad=False)\n",
    "model.lin_p3.weight = torch.nn.Parameter(torch.rand(INPUT_LENGTH,INPUT_LENGTH), requires_grad=False)\n",
    "model.lin_p4.weight = torch.nn.Parameter(torch.rand(INPUT_LENGTH,INPUT_LENGTH), requires_grad=False)\n",
    "model.lin_p5.weight = torch.nn.Parameter(torch.rand(INPUT_LENGTH,INPUT_LENGTH), requires_grad=False)\n",
    "model.lin_p6.weight = torch.nn.Parameter(torch.rand(INPUT_LENGTH,INPUT_LENGTH), requires_grad=False)\n",
    "\n",
    "model.lin_n1.weight = torch.nn.Parameter(torch.rand(INPUT_LENGTH,INPUT_LENGTH), requires_grad=False)\n",
    "model.lin_n2.weight = torch.nn.Parameter(torch.rand(INPUT_LENGTH,INPUT_LENGTH), requires_grad=False)\n",
    "model.lin_n3.weight = torch.nn.Parameter(torch.rand(INPUT_LENGTH,INPUT_LENGTH), requires_grad=False)\n",
    "model.lin_n4.weight = torch.nn.Parameter(torch.rand(INPUT_LENGTH,INPUT_LENGTH), requires_grad=False)\n",
    "model.lin_n5.weight = torch.nn.Parameter(torch.rand(INPUT_LENGTH,INPUT_LENGTH), requires_grad=False)\n",
    "model.lin_n6.weight = torch.nn.Parameter(torch.rand(INPUT_LENGTH,INPUT_LENGTH), requires_grad=False)"
   ]
  },
  {
   "cell_type": "code",
   "execution_count": 35,
   "id": "2423ce58-a57d-4c7b-98d3-ef2d92cced8a",
   "metadata": {},
   "outputs": [],
   "source": [
    "torch.save(model.state_dict(), 'rand_weights.pth')"
   ]
  },
  {
   "cell_type": "code",
   "execution_count": null,
   "id": "e084c819-83e4-4ff3-9a35-e3d636d547f6",
   "metadata": {},
   "outputs": [],
   "source": []
  }
 ],
 "metadata": {
  "kernelspec": {
   "display_name": "Python 3 (ipykernel)",
   "language": "python",
   "name": "python3"
  },
  "language_info": {
   "codemirror_mode": {
    "name": "ipython",
    "version": 3
   },
   "file_extension": ".py",
   "mimetype": "text/x-python",
   "name": "python",
   "nbconvert_exporter": "python",
   "pygments_lexer": "ipython3",
   "version": "3.11.6"
  }
 },
 "nbformat": 4,
 "nbformat_minor": 5
}
